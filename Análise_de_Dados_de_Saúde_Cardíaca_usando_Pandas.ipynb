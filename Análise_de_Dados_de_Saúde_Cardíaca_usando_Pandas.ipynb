{
  "nbformat": 4,
  "nbformat_minor": 0,
  "metadata": {
    "colab": {
      "provenance": []
    },
    "kernelspec": {
      "name": "python3",
      "display_name": "Python 3"
    },
    "language_info": {
      "name": "python"
    }
  },
  "cells": [
    {
      "cell_type": "markdown",
      "source": [
        "# Projeto de Análise de Dados de Saúde Cardíaca 📊❤️\n",
        "\n",
        "Bem-vindo ao projeto de análise de dados de saúde cardíaca! Este repositório contém análises e visualizações de dados relacionados à saúde do coração. Aproveitados através de dados extraidos do Kaggle. Vamos explorar insights valiosos e padrões ocultos nos dados para melhorar a compreensão da saúde cardiovascular.\n",
        "\n",
        "## Visão Geral 📋\n",
        "\n",
        "Neste projeto, você encontrará:\n",
        "\n",
        "- Análises estatísticas detalhadas sobre dados de pacientes.\n",
        "- Visualizações informativas, incluindo gráficos e tabelas.\n",
        "- Respostas para perguntas fundamentais sobre saúde cardíaca.\n",
        "- Insights sobre a relação entre diferentes variáveis."
      ],
      "metadata": {
        "id": "Qmye6f72tKt_"
      }
    },
    {
      "cell_type": "markdown",
      "source": [
        "## Passo 1: Dando Vida aos Códigos 🚀\n",
        "Agora que nosso notebook está aberto, é hora de fazer a mágica acontecer! Imagine que cada célula de código é como um feitiço que transformará nossos dados. 🧙‍♂️\n",
        "\n",
        "Execute as Células: Para ativar os feitiços, pressione Shift + Enter ou clique no botão de reprodução mágica (▶️) à esquerda de cada célula.\n",
        "\n",
        "Siga as Instruções: Não se esqueça de ler as instruções nas células. Elas são como varinhas mágicas que guiarão você pelas análises.\n",
        "\n",
        "Tenha Paciência: Após executar um feitiço, aguarde um pouco. Às vezes, a mágica demora um pouco para acontecer.\n",
        "\n",
        "## Passo 2: Descobrindo os Segredos 🔍\n",
        "Enquanto nossos feitiços são lançados, observe o que aparece nas células. Você verá gráficos, números e análises que revelam os segredos escondidos em nossos dados. 🧐\n",
        "\n",
        "Leia com Atenção: As análises são como histórias encantadas. Leia-as atentamente e descubra os segredos que os números estão contando.\n",
        "\n",
        "Desbrave os Gráficos: Os gráficos são como mapas do tesouro. Navegue por eles para encontrar os padrões e tendências.\n",
        "\n",
        "Divirta-se: A magia da análise de dados é explorar e fazer descobertas. Divirta-se no mundo dos números!\n",
        "\n",
        "Explicando os itens:\n",
        "Os cabeçalhos da base de dados utilizados no código do \"EDA Desafio\" são os seguintes:\n",
        "\n",
        "- age: Idade do paciente.\n",
        "- sex: Sexo do paciente (1 para masculino, 0 para feminino).\n",
        "- cp: Tipo de dor no peito (0, 1, 2, 3, 4).\n",
        "-trtbps: Pressão arterial em repouso.\n",
        "-chol: Nível de colesterol sérico.\n",
        "-fbs: Açúcar no sangue em jejum (1 para verdadeiro, 0 para falso).\n",
        "-restecg: Resultados do eletrocardiograma em repouso (0, 1, 2).\n",
        "-thalachh: Frequência cardíaca máxima alcançada.\n",
        "-exng: Angina induzida pelo exercício (1 para sim, 0 para não).\n",
        "-oldpeak: Depressão do segmento ST induzida pelo exercício em relação ao repouso.\n",
        "-slp: Inclinação do segmento ST do pico do exercício.\n",
        "-caa: Número de vasos principais coloridos por fluoroscopia.\n",
        "-thall: Resultado do teste de estresse cardíaco thallium (0, 1, 2, 3).\n",
        "-output: Presença de doença cardíaca (1 para sim, 0 para não).\n",
        "\n",
        "Agora você está pronto para lançar seus próprios feitiços e desvendar os mistérios dos dados. Continue a jornada e aproveite! 🌟"
      ],
      "metadata": {
        "id": "C-S4ktnYtRnt"
      }
    },
    {
      "cell_type": "code",
      "source": [
        "import pandas as pd\n",
        "# Inicio da Exportação dos dados:\n",
        "\n",
        "\n",
        "# Vamos carregar o arquivo com os dados necessários,\n",
        "file_path = '/content/heart.csv'\n",
        "\n",
        "# Carregar os dados em um DataFrame,\n",
        "df = pd.read_csv(file_path, delimiter=\";\")\n",
        "\n",
        "# Exibir as primeiras linhas do DataFrame para verificar se os dados foram carregados corretamente.\n",
        "print(df.head(11))\n",
        "\n",
        "#Fim da Exportação dos dados\n"
      ],
      "metadata": {
        "id": "kePee0-Nmilp"
      },
      "execution_count": null,
      "outputs": []
    },
    {
      "cell_type": "code",
      "source": [
        "# Inicio da Transformação dos dados:\n",
        "\n",
        "# Vamos lidar com Valores Ausentes e caso seja verdade, verificar a contagem de valores ausentes em cada coluna.\n",
        "print(\"Contagem de Valores Ausentes:\")\n",
        "print(df.isnull().sum())"
      ],
      "metadata": {
        "id": "16b99s2snZoP"
      },
      "execution_count": null,
      "outputs": []
    },
    {
      "cell_type": "code",
      "source": [
        "# Ao longo do tratamento dos dados, vamos validando a disposição dos nossos dados.\n",
        "\n",
        "# Fim da Transformação dos dados\n",
        "\n",
        "print(df.columns)\n"
      ],
      "metadata": {
        "id": "mgYrAVpouUEo"
      },
      "execution_count": null,
      "outputs": []
    },
    {
      "cell_type": "markdown",
      "source": [
        "## Agora vamos iniciar as análises Estatísticas das Variáveis Numéricas\n",
        "\n",
        "No trecho de código a seguir, estamos realizando uma análise estatística das informações numéricas contidas no nosso conjunto de dados. Isso é feito para entendermos melhor como esses números estão distribuídos e quais padrões podem ser observados."
      ],
      "metadata": {
        "id": "pgB3jv4gwavY"
      }
    },
    {
      "cell_type": "code",
      "source": [
        "# Calcular estatísticas descritivas das variáveis numéricas\n",
        "\n",
        "numeric_columns = ['age', 'trtbps', 'chol', 'thalachh', 'oldpeak']\n",
        "numeric_stats = df[numeric_columns].describe()\n",
        "print(\"\\nEstatísticas Descritivas das Variáveis Numéricas:\")\n",
        "print(numeric_stats)\n"
      ],
      "metadata": {
        "id": "-0d_EaeFoIPX"
      },
      "execution_count": null,
      "outputs": []
    },
    {
      "cell_type": "code",
      "source": [
        "import pandas as pd\n",
        "import numpy as np\n",
        "import matplotlib.pyplot as plt\n",
        "import seaborn as sns\n",
        "from scipy.stats import chi2_contingency, pearsonr, ttest_ind\n",
        "\n",
        "\n",
        "# Visualizar as primeiras linhas do conjunto de dados\n",
        "print(df.head(11))\n"
      ],
      "metadata": {
        "id": "UuDFYjMev-c_"
      },
      "execution_count": null,
      "outputs": []
    },
    {
      "cell_type": "code",
      "source": [
        "#Qual é a distribuição da idade dos pacientes em relação a sua frequência cardíaca média?\n",
        "\n",
        "#Vamos começar gerando um histograma da idade dos pacientes para visualizar a distribuição.\n",
        "\n",
        "import matplotlib.pyplot as plt\n",
        "\n",
        "# Histograma da idade\n",
        "plt.figure(figsize=(8, 6))\n",
        "plt.hist(df['age'], bins=20, color='skyblue', edgecolor='black')\n",
        "plt.title('Distribuição da Idade dos Pacientes')\n",
        "plt.xlabel('Idade')\n",
        "plt.ylabel('Frequência')\n",
        "plt.show()\n"
      ],
      "metadata": {
        "id": "lE8cG6PbyWIL"
      },
      "execution_count": null,
      "outputs": []
    },
    {
      "cell_type": "code",
      "source": [
        "#Qual é a relação entre o sexo dos pacientes e a probabilidade de ataque cardíaco?\n",
        "\n",
        "#Vamos criar uma tabela de contingência e realizar um teste de qui-quadrado para analisar essa relação.\n",
        "\n",
        "import pandas as pd\n",
        "from scipy.stats import chi2_contingency\n",
        "\n",
        "# Criar a tabela de contingência\n",
        "contingency_table = pd.crosstab(df['sex'], df['output'])\n",
        "\n",
        "# Realizar o teste de qui-quadrado\n",
        "chi2, p, _, _ = chi2_contingency(contingency_table)\n",
        "\n",
        "# Interpretar o resultado do teste de qui-quadrado\n",
        "if p < 0.05:\n",
        "    resultado_teste = \"Há uma relação significativa entre o sexo e a probabilidade de ataque cardíaco.\"\n",
        "else:\n",
        "    resultado_teste = \"Não há uma relação significativa entre o sexo e a probabilidade de ataque cardíaco.\"\n",
        "\n",
        "# Calcular a proporção de ataque cardíaco por sexo\n",
        "proporcao_por_sexo = contingency_table.loc[:, 1] / (contingency_table.loc[:, 0] + contingency_table.loc[:, 1])\n",
        "\n",
        "# Determinar o sexo com a maior proporção de ataque cardíaco\n",
        "sexo_maior_probabilidade = \"Masculino\" if proporcao_por_sexo[1] > proporcao_por_sexo[0] else \"Feminino\"\n",
        "\n",
        "print(f\"Qui-Quadrado: {chi2}\")\n",
        "print(f\"Valor-p: {p}\")\n",
        "print(resultado_teste)\n",
        "print(f\"Sexo com maior probabilidade de ataque cardíaco: {sexo_maior_probabilidade}\")\n"
      ],
      "metadata": {
        "id": "Y1oYhLGo0xBy"
      },
      "execution_count": null,
      "outputs": []
    },
    {
      "cell_type": "code",
      "source": [
        "#Será que existe uma correlação entre a pressão arterial em repouso (TRTBPS) e a frequência cardíaca máxima alcançada (Thalachh)?\n",
        "\n",
        "#Vamos calcular a correlação de Pearson entre essas duas variáveis.\n",
        "\n",
        "# Calcular a correlação de Pearson\n",
        "correlation = df['trtbps'].corr(df['thalachh'])\n",
        "\n",
        "print(f\"Correlação entre TRTBPS e Thalachh: {correlation}\")"
      ],
      "metadata": {
        "id": "DQeCFglc001H"
      },
      "execution_count": null,
      "outputs": []
    },
    {
      "cell_type": "code",
      "source": [
        "# Calcular a correlação de Pearson entre TRTBPS (pressão arterial em repouso) e Thalachh (frequência cardíaca máxima alcançada)\n",
        "correlation = df['trtbps'].corr(df['thalachh'])\n",
        "\n",
        "# Imprimir o resultado da correlação e sua interpretação\n",
        "print(f\"Correlação entre TRTBPS (pressão arterial em repouso) e Thalachh (frequência cardíaca máxima alcançada): {correlation}\")\n",
        "\n",
        "# Interpretar o resultado da correlação\n",
        "if correlation < -0.5:\n",
        "    interpretation = \"Correlação muito forte negativa.\"\n",
        "elif correlation < -0.3:\n",
        "    interpretation = \"Correlação moderada negativa.\"\n",
        "elif correlation < -0.1:\n",
        "    interpretation = \"Correlação fraca negativa.\"\n",
        "elif correlation > 0.5:\n",
        "    interpretation = \"Correlação muito forte positiva.\"\n",
        "elif correlation > 0.3:\n",
        "    interpretation = \"Correlação moderada positiva.\"\n",
        "elif correlation > 0.1:\n",
        "    interpretation = \"Correlação fraca positiva.\"\n",
        "else:\n",
        "    interpretation = \"Correlação muito fraca ou inexistente.\"\n",
        "\n",
        "print(f\"Interpretação da correlação: {interpretation}\")\n"
      ],
      "metadata": {
        "id": "QhRghGhh6r9f"
      },
      "execution_count": null,
      "outputs": []
    },
    {
      "cell_type": "markdown",
      "source": [
        "Essa correlação é próxima de zero, o que sugere uma correlação muito fraca ou quase inexistente entre essas duas variáveis no conjunto de dados. Isso significa que as variações na pressão arterial em repouso não estão fortemente relacionadas às variações na frequência cardíaca máxima alcançada.\n",
        "\n",
        "\n",
        "## E por fim:\n",
        "\n",
        "A média estimada para o perfil mais propenso a ter ataques cardíacos, conforme nossa base de dados."
      ],
      "metadata": {
        "id": "KumHZO_CsZv3"
      }
    },
    {
      "cell_type": "code",
      "source": [
        "# Função para determinar o perfil mais propenso a um ataque cardíaco e explicar as variáveis\n",
        "def encontrar_perfil_e_explicar_variaveis(df):\n",
        "    # Idade média dos pacientes com ataque cardíaco (aproximada)\n",
        "    idade_media = int(round(df[df['output'] == 1]['age'].mean()))\n",
        "\n",
        "    # Proporção de homens entre os pacientes com ataque cardíaco (em porcentagem)\n",
        "    proporcao_homens = int(round((df[(df['output'] == 1) & (df['sex'] == 1)]['sex'].count() / df[df['output'] == 1]['sex'].count()) * 100))\n",
        "\n",
        "    # Pressão arterial média dos pacientes com ataque cardíaco (aproximada)\n",
        "    pressao_arterial_media = int(round(df[df['output'] == 1]['trtbps'].mean()))\n",
        "\n",
        "    # Nível médio de colesterol entre os pacientes com ataque cardíaco (aproximado)\n",
        "    colesterol_medio = int(round(df[df['output'] == 1]['chol'].mean()))\n",
        "\n",
        "    # Frequência cardíaca máxima média dos pacientes com ataque cardíaco (aproximada)\n",
        "    frequencia_cardiaca_media = int(round(df[df['output'] == 1]['thalachh'].mean()))\n",
        "\n",
        "    # Média da depressão do segmento ST entre os pacientes com ataque cardíaco (aproximada)\n",
        "    depressao_st_media = int(round(df[df['output'] == 1]['oldpeak'].mean()))\n",
        "\n",
        "    # Probabilidade estimada de um paciente ter um ataque cardíaco (em porcentagem)\n",
        "    probabilidade_ataque_cardiaco = int(round((idade_media * 0.2) + (proporcao_homens * 0.1) + (pressao_arterial_media * 0.1) + (colesterol_medio * 0.2) + (frequencia_cardiaca_media * 0.2) + (depressao_st_media * 0.2)))\n",
        "\n",
        "    # Determinar o perfil mais propenso com base na probabilidade\n",
        "    perfil = \"Perfil com Menor Probabilidade\"\n",
        "    if probabilidade_ataque_cardiaco > 50:\n",
        "        perfil = \"Perfil com Maior Probabilidade\"\n",
        "\n",
        "    # Explicação das variáveis\n",
        "    explicacao_variaveis = {\n",
        "        \"Idade Média\": idade_media,\n",
        "        \"Chance do perfil ser Homem em %\": proporcao_homens,\n",
        "        \"Pressão Arterial Média\": pressao_arterial_media,\n",
        "        \"Nível Médio de Colesterol\": colesterol_medio,\n",
        "        \"Frequência Cardíaca Máxima Média\": frequencia_cardiaca_media,\n",
        "        \"Média da Depressão do Segmento ST\": depressao_st_media,\n",
        "    }\n",
        "\n",
        "    return perfil, explicacao_variaveis\n",
        "\n",
        "# Chamar a função com o DataFrame EDA Desafio\n",
        "perfil_propenso, explicacao_variaveis = encontrar_perfil_e_explicar_variaveis(df)\n",
        "\n",
        "# Imprimir o perfil mais propenso\n",
        "print(f\"Perfil Mais Propenso a um Ataque Cardíaco: {perfil_propenso}\")\n",
        "\n",
        "# Imprimir a explicação das variáveis\n",
        "print(\"\\nExplicação das Variáveis:\")\n",
        "for variavel, valor in explicacao_variaveis.items():\n",
        "    print(f\"- {variavel}: {valor}\")\n"
      ],
      "metadata": {
        "id": "LSzAA4tg7D5D"
      },
      "execution_count": null,
      "outputs": []
    },
    {
      "cell_type": "code",
      "source": [
        "# Código de análise estatística concluído\n",
        "print(\"Análise estatística concluída com sucesso!\")\n"
      ],
      "metadata": {
        "id": "3DnbAVxc6wmt"
      },
      "execution_count": null,
      "outputs": []
    }
  ]
}